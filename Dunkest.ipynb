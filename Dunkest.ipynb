{
 "cells": [
  {
   "cell_type": "code",
   "execution_count": 1,
   "metadata": {},
   "outputs": [
    {
     "name": "stdout",
     "output_type": "stream",
     "text": [
      "\n"
     ]
    }
   ],
   "source": [
    "!git clone https://github.com/edu9as/dunkest.git\n",
    "%cd dunkest"
   ]
  },
  {
   "cell_type": "code",
   "execution_count": 2,
   "metadata": {},
   "outputs": [],
   "source": [
    "import pandas as pd\n",
    "import ipywidgets as widgets\n",
    "from ipywidgets import interact, interact_manual\n",
    "\n",
    "from dunkest import dunkest\n",
    "\n",
    "df = pd.read_csv(\"dunkest.csv\", sep = \";\")"
   ]
  },
  {
   "cell_type": "code",
   "execution_count": 3,
   "metadata": {},
   "outputs": [
    {
     "data": {
      "application/vnd.jupyter.widget-view+json": {
       "model_id": "ecc234d00f154f44ba19a713550147a7",
       "version_major": 2,
       "version_minor": 0
      },
      "text/plain": [
       "interactive(children=(Dropdown(description='n_days', options=(3, 4, 5, 6), value=3), Dropdown(description='min…"
      ]
     },
     "metadata": {},
     "output_type": "display_data"
    }
   ],
   "source": [
    "@interact\n",
    "def scatter_plot(n_days=list(range(3,df.Day.max()+1)), \n",
    "                 min_games_played=list(range(df.Day.max()+1)),\n",
    "                 optimize=list(['CR', 'PDK_mean', 'PDK_sd',\n",
    "                                'PDK_n', 'PDK_last', 'PDK_CR']), \n",
    "                 guards=list(range(0,10)),\n",
    "                 forwards=list(range(0,10)),\n",
    "                 centers=list(range(0,10))):\n",
    "\n",
    "    pdk_cr = dunkest.build_pdk_cr(df, n_days = n_days,\n",
    "                                  min_games_played=min_games_played)\n",
    "\n",
    "    your_df = dunkest.build_best_team(pdk_cr, optimize,\n",
    "                                      players_per_position=[guards,\n",
    "                                                            forwards,\n",
    "                                                            centers])\n",
    "    del your_df[\"PLUS\"]\n",
    "\n",
    "    print(f\"Total PDK_mean: {your_df.PDK_mean.sum():.2f}\")\n",
    "    print(f\"Mean team PDK: {dunkest.compute_team_pdk(your_df, 'PDK_mean'):.2f}\")\n",
    "    print(f\"Total PDK_last: {your_df.PDK_last.sum():.2f}\")\n",
    "    print(f\"Last team PDK: {dunkest.compute_team_pdk(your_df, 'PDK_last'):.2f}\")\n",
    "\n",
    "    df_format = {k: \"{:.2f}\" for k in df.select_dtypes(\"number\").columns}\n",
    "\n",
    "    render_df = your_df.style.\\\n",
    "        background_gradient(subset=[\"PDK_sd\"], cmap = \"seismic\").\\\n",
    "        bar(subset=[optimize], color = \"#08b\", vmin = 0).\\\n",
    "        format(df_format)\n",
    "\n",
    "\n",
    "    return render_df\n"
   ]
  }
 ],
 "metadata": {
  "interpreter": {
   "hash": "f3c990afcfc0df6c7685406e94b35aa4599674606d5fe92e857b85f78c6a2558"
  },
  "kernelspec": {
   "display_name": "Python 3.8.12 64-bit ('nba-stats': conda)",
   "name": "python3"
  },
  "language_info": {
   "codemirror_mode": {
    "name": "ipython",
    "version": 3
   },
   "file_extension": ".py",
   "mimetype": "text/x-python",
   "name": "python",
   "nbconvert_exporter": "python",
   "pygments_lexer": "ipython3",
   "version": "3.8.12"
  },
  "orig_nbformat": 4
 },
 "nbformat": 4,
 "nbformat_minor": 2
}
